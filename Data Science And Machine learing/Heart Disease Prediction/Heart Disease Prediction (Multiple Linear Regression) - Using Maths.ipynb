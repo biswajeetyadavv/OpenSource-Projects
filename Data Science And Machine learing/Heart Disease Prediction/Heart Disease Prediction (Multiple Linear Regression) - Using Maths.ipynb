{
 "cells": [
  {
   "cell_type": "code",
   "execution_count": 1,
   "id": "a98dd77f",
   "metadata": {},
   "outputs": [],
   "source": [
    "import pandas as pd\n",
    "import numpy as np\n",
    "import warnings\n",
    "## Building Model\n",
    "from sklearn import linear_model\n",
    "from scipy import stats\n",
    "import statsmodels\n",
    "import statsmodels.api as sm\n",
    "import statsmodels.formula.api as smf\n",
    "import statsmodels.stats.api as sms\n",
    "from statsmodels.compat import lzip\n",
    "## Data Visualization\n",
    "import seaborn as sns\n",
    "import matplotlib.pyplot as plt\n",
    "from mpl_toolkits.mplot3d import Axes3D\n",
    "\n",
    "from sklearn.model_selection import train_test_split\n",
    "from sklearn.metrics import r2_score\n",
    "from sklearn.metrics import mean_squared_error\n",
    "\n",
    "%matplotlib inline"
   ]
  },
  {
   "cell_type": "code",
   "execution_count": 2,
   "id": "f002baab",
   "metadata": {},
   "outputs": [
    {
     "data": {
      "text/html": [
       "<div>\n",
       "<style scoped>\n",
       "    .dataframe tbody tr th:only-of-type {\n",
       "        vertical-align: middle;\n",
       "    }\n",
       "\n",
       "    .dataframe tbody tr th {\n",
       "        vertical-align: top;\n",
       "    }\n",
       "\n",
       "    .dataframe thead th {\n",
       "        text-align: right;\n",
       "    }\n",
       "</style>\n",
       "<table border=\"1\" class=\"dataframe\">\n",
       "  <thead>\n",
       "    <tr style=\"text-align: right;\">\n",
       "      <th></th>\n",
       "      <th>age</th>\n",
       "      <th>sex</th>\n",
       "      <th>cp</th>\n",
       "      <th>trestbps</th>\n",
       "      <th>chol</th>\n",
       "      <th>fbs</th>\n",
       "      <th>restecg</th>\n",
       "      <th>thalach</th>\n",
       "      <th>exang</th>\n",
       "      <th>oldpeak</th>\n",
       "      <th>slope</th>\n",
       "      <th>ca</th>\n",
       "      <th>thal</th>\n",
       "      <th>target</th>\n",
       "    </tr>\n",
       "  </thead>\n",
       "  <tbody>\n",
       "    <tr>\n",
       "      <th>0</th>\n",
       "      <td>63</td>\n",
       "      <td>1</td>\n",
       "      <td>3</td>\n",
       "      <td>145</td>\n",
       "      <td>233</td>\n",
       "      <td>1</td>\n",
       "      <td>0</td>\n",
       "      <td>150</td>\n",
       "      <td>0</td>\n",
       "      <td>2.3</td>\n",
       "      <td>0</td>\n",
       "      <td>0</td>\n",
       "      <td>1</td>\n",
       "      <td>1</td>\n",
       "    </tr>\n",
       "    <tr>\n",
       "      <th>1</th>\n",
       "      <td>37</td>\n",
       "      <td>1</td>\n",
       "      <td>2</td>\n",
       "      <td>130</td>\n",
       "      <td>250</td>\n",
       "      <td>0</td>\n",
       "      <td>1</td>\n",
       "      <td>187</td>\n",
       "      <td>0</td>\n",
       "      <td>3.5</td>\n",
       "      <td>0</td>\n",
       "      <td>0</td>\n",
       "      <td>2</td>\n",
       "      <td>1</td>\n",
       "    </tr>\n",
       "    <tr>\n",
       "      <th>2</th>\n",
       "      <td>41</td>\n",
       "      <td>0</td>\n",
       "      <td>1</td>\n",
       "      <td>130</td>\n",
       "      <td>204</td>\n",
       "      <td>0</td>\n",
       "      <td>0</td>\n",
       "      <td>172</td>\n",
       "      <td>0</td>\n",
       "      <td>1.4</td>\n",
       "      <td>2</td>\n",
       "      <td>0</td>\n",
       "      <td>2</td>\n",
       "      <td>1</td>\n",
       "    </tr>\n",
       "    <tr>\n",
       "      <th>3</th>\n",
       "      <td>56</td>\n",
       "      <td>1</td>\n",
       "      <td>1</td>\n",
       "      <td>120</td>\n",
       "      <td>236</td>\n",
       "      <td>0</td>\n",
       "      <td>1</td>\n",
       "      <td>178</td>\n",
       "      <td>0</td>\n",
       "      <td>0.8</td>\n",
       "      <td>2</td>\n",
       "      <td>0</td>\n",
       "      <td>2</td>\n",
       "      <td>1</td>\n",
       "    </tr>\n",
       "    <tr>\n",
       "      <th>4</th>\n",
       "      <td>57</td>\n",
       "      <td>0</td>\n",
       "      <td>0</td>\n",
       "      <td>120</td>\n",
       "      <td>354</td>\n",
       "      <td>0</td>\n",
       "      <td>1</td>\n",
       "      <td>163</td>\n",
       "      <td>1</td>\n",
       "      <td>0.6</td>\n",
       "      <td>2</td>\n",
       "      <td>0</td>\n",
       "      <td>2</td>\n",
       "      <td>1</td>\n",
       "    </tr>\n",
       "  </tbody>\n",
       "</table>\n",
       "</div>"
      ],
      "text/plain": [
       "   age  sex  cp  trestbps  chol  fbs  restecg  thalach  exang  oldpeak  slope  \\\n",
       "0   63    1   3       145   233    1        0      150      0      2.3      0   \n",
       "1   37    1   2       130   250    0        1      187      0      3.5      0   \n",
       "2   41    0   1       130   204    0        0      172      0      1.4      2   \n",
       "3   56    1   1       120   236    0        1      178      0      0.8      2   \n",
       "4   57    0   0       120   354    0        1      163      1      0.6      2   \n",
       "\n",
       "   ca  thal  target  \n",
       "0   0     1       1  \n",
       "1   0     2       1  \n",
       "2   0     2       1  \n",
       "3   0     2       1  \n",
       "4   0     2       1  "
      ]
     },
     "execution_count": 2,
     "metadata": {},
     "output_type": "execute_result"
    }
   ],
   "source": [
    "df = pd.read_csv('./DataSet/heart.csv')\n",
    "df.head()"
   ]
  },
  {
   "cell_type": "markdown",
   "id": "9144fbfa",
   "metadata": {},
   "source": [
    "#### Comparison of target=0 VS target=1"
   ]
  },
  {
   "cell_type": "code",
   "execution_count": 3,
   "id": "82a061a9",
   "metadata": {},
   "outputs": [
    {
     "data": {
      "image/png": "[encoded data removed]",
      "text/plain": [
       "<Figure size 432x288 with 1 Axes>"
      ]
     },
     "metadata": {
      "needs_background": "light"
     },
     "output_type": "display_data"
    }
   ],
   "source": [
    "sns.countplot(x='target',data=df,palette='hls')\n",
    "plt.show()"
   ]
  },
  {
   "cell_type": "markdown",
   "id": "dd7fb746",
   "metadata": {},
   "source": [
    "#### Checking Distribution column-wise"
   ]
  },
  {
   "cell_type": "code",
   "execution_count": 4,
   "id": "c4a7bddc",
   "metadata": {},
   "outputs": [
    {
     "data": {
      "text/plain": [
       "array([[<AxesSubplot:title={'center':'age'}>,\n",
       "        <AxesSubplot:title={'center':'trestbps'}>],\n",
       "       [<AxesSubplot:title={'center':'chol'}>,\n",
       "        <AxesSubplot:title={'center':'thalach'}>],\n",
       "       [<AxesSubplot:title={'center':'oldpeak'}>, <AxesSubplot:>]],\n",
       "      dtype=object)"
      ]
     },
     "execution_count": 4,
     "metadata": {},
     "output_type": "execute_result"
    },
    {
     "data": {
      "image/png": "[encoded data removed]",
      "text/plain": [
       "<Figure size 1440x720 with 6 Axes>"
      ]
     },
     "metadata": {
      "needs_background": "light"
     },
     "output_type": "display_data"
    }
   ],
   "source": [
    "df.hist(column=['age','trestbps','chol','thalach','oldpeak'],alpha=0.5,figsize=(20,10))"
   ]
  },
  {
   "cell_type": "code",
   "execution_count": 5,
   "id": "295a12e1",
   "metadata": {},
   "outputs": [
    {
     "data": {
      "text/plain": [
       "array([[<AxesSubplot:title={'center':'sex'}>,\n",
       "        <AxesSubplot:title={'center':'cp'}>,\n",
       "        <AxesSubplot:title={'center':'fbs'}>],\n",
       "       [<AxesSubplot:title={'center':'restecg'}>,\n",
       "        <AxesSubplot:title={'center':'exang'}>,\n",
       "        <AxesSubplot:title={'center':'slope'}>],\n",
       "       [<AxesSubplot:title={'center':'ca'}>,\n",
       "        <AxesSubplot:title={'center':'thal'}>, <AxesSubplot:>]],\n",
       "      dtype=object)"
      ]
     },
     "execution_count": 5,
     "metadata": {},
     "output_type": "execute_result"
    },
    {
     "data": {
      "image/png": "[encoded data removed]",
      "text/plain": [
       "<Figure size 1440x720 with 9 Axes>"
      ]
     },
     "metadata": {
      "needs_background": "light"
     },
     "output_type": "display_data"
    }
   ],
   "source": [
    "df.hist(column=['sex','cp','fbs','restecg','exang','slope','ca','thal'],alpha=0.5,figsize=(20,10))"
   ]
  },
  {
   "cell_type": "markdown",
   "id": "6dfb5731",
   "metadata": {},
   "source": [
    "## Machine Learning Algorithm: Multiple Linear Regression\n",
    "#### General Equation: $Y$ = $β_0 + β_1x_1 + β_2x_2 + .... + β_kx_k + ε$"
   ]
  },
  {
   "cell_type": "markdown",
   "id": "0581df18",
   "metadata": {},
   "source": [
    "#### Splitting Data-Frame to Test & Train dataframes"
   ]
  },
  {
   "cell_type": "code",
   "execution_count": 6,
   "id": "fbd732a5",
   "metadata": {},
   "outputs": [],
   "source": [
    "heart_X = df.drop('target',axis=1)\n",
    "heart_Y = df['target']"
   ]
  },
  {
   "cell_type": "code",
   "execution_count": 7,
   "id": "99663eb8",
   "metadata": {},
   "outputs": [],
   "source": [
    "x_train, x_test, y_train, y_test = train_test_split(heart_X, heart_Y, test_size=0.2, random_state=42)"
   ]
  },
  {
   "cell_type": "markdown",
   "id": "06fb1b0d",
   "metadata": {},
   "source": [
    "#### Model Building"
   ]
  },
  {
   "cell_type": "code",
   "execution_count": 8,
   "id": "c7974ce1",
   "metadata": {},
   "outputs": [],
   "source": [
    "X = x_train.to_numpy()\n",
    "Y = y_train.to_numpy()"
   ]
  },
  {
   "cell_type": "markdown",
   "id": "88ba947e",
   "metadata": {},
   "source": [
    "#### Normal Equation:                      $X'X\\hat{β}$ = $X'Y$\n",
    "#### Least Square Estimate of β :           $\\hat{β}$ = $(X'X)^{-1} X'Y$"
   ]
  },
  {
   "cell_type": "code",
   "execution_count": 9,
   "id": "1b9c02d0",
   "metadata": {},
   "outputs": [],
   "source": [
    "def cal_beta(X,Y):\n",
    "    trans_X = X.transpose()\n",
    "    mul1 = np.matmul(trans_X,X)\n",
    "    mul2 = np.matmul(trans_X,Y)\n",
    "    inv_mul1 = np.linalg.inv(mul1)\n",
    "    \n",
    "    return np.matmul(inv_mul1,mul2)"
   ]
  },
  {
   "cell_type": "code",
   "execution_count": 10,
   "id": "f0f87e3e",
   "metadata": {},
   "outputs": [
    {
     "name": "stdout",
     "output_type": "stream",
     "text": [
      "The dimension of beta: (13,)\n"
     ]
    }
   ],
   "source": [
    "beta = cal_beta(X,Y)\n",
    "print('The dimension of beta: {}'.format(beta.shape))"
   ]
  },
  {
   "cell_type": "markdown",
   "id": "3ed708f0",
   "metadata": {},
   "source": [
    "#### Fitted Regression Model:  $\\hat{y_i}$ = $\\hat{β_0} + \\sum_{j=1}^{k} \\hat{β_j}x_{ij}$ , where we have $\\hat{β_0},...,\\hat{β_{12}}$\n",
    "\n",
    "#### In Matrix notation, the fitted Model is:     $\\hat{y}$ = $X\\hat{β}$"
   ]
  },
  {
   "cell_type": "code",
   "execution_count": 11,
   "id": "fea8187d",
   "metadata": {},
   "outputs": [
    {
     "name": "stdout",
     "output_type": "stream",
     "text": [
      "β0 = 0.0034486433063454502\n",
      "β1 = -0.1682297991385454\n",
      "β2 = 0.10418115807100636\n",
      "β3 = -0.0005843663520501419\n",
      "β4 = -7.27683022132275e-05\n",
      "β5 = 0.006737830979235304\n",
      "β6 = 0.07188023575358804\n",
      "β7 = 0.004494824320227714\n",
      "β8 = -0.14501397230172192\n",
      "β9 = -0.05715627708486645\n",
      "β10 = 0.11853541044958016\n",
      "β11 = -0.11234597630855184\n",
      "β12 = -0.10645747854966503\n"
     ]
    }
   ],
   "source": [
    "for i in range(0,beta.shape[0]):\n",
    "    print('β{} = {}'.format(i,beta[i]))"
   ]
  },
  {
   "cell_type": "code",
   "execution_count": 12,
   "id": "0ed6cf5d",
   "metadata": {},
   "outputs": [
    {
     "data": {
      "text/plain": [
       "array([ 0.14444841,  0.72989287,  0.79002525,  0.08014047,  0.87252697,\n",
       "        0.92351065,  0.50413212, -0.25786052, -0.19969343,  0.46282194,\n",
       "        0.65888972,  0.3164397 ,  0.87922178, -0.05447025,  1.05576143,\n",
       "        0.92618522,  1.05623143,  0.12078613, -0.17619953, -0.0462337 ,\n",
       "        0.71073314, -0.15779854,  0.21493619,  0.81020337,  0.79127412,\n",
       "        0.66780674,  0.82042817,  0.62202641, -0.1200428 ,  0.82850165,\n",
       "        0.03275498,  0.11729038, -0.20052342,  0.16542089,  0.65882227,\n",
       "        0.22212134,  0.64646335,  0.77932628,  0.75059182,  0.75653562,\n",
       "        0.52886959,  0.72970155,  0.72000164,  0.63642524,  0.76561287,\n",
       "       -0.26650109,  0.61763185,  0.95538602,  0.22962278,  0.05474446,\n",
       "        0.13166271, -0.14065603,  0.66095929,  1.03539724,  0.39853662,\n",
       "       -0.25064649,  0.18185131,  0.9516113 ,  0.06061288, -0.15888046,\n",
       "        0.12475888])"
      ]
     },
     "execution_count": 12,
     "metadata": {},
     "output_type": "execute_result"
    }
   ],
   "source": [
    "def predict(b,x):\n",
    "    return np.matmul(x,b)\n",
    "\n",
    "y_pred = predict(beta,x_test.to_numpy())\n",
    "\n",
    "y_pred"
   ]
  },
  {
   "cell_type": "code",
   "execution_count": 13,
   "id": "72f77680",
   "metadata": {},
   "outputs": [
    {
     "data": {
      "text/plain": [
       "array([0., 1., 1., 0., 1., 1., 1., 0., 0., 0., 1., 0., 1., 0., 1., 1., 1.,\n",
       "       0., 0., 0., 1., 0., 0., 1., 1., 1., 1., 1., 0., 1., 0., 0., 0., 0.,\n",
       "       1., 0., 1., 1., 1., 1., 1., 1., 1., 1., 1., 0., 1., 1., 0., 0., 0.,\n",
       "       0., 1., 1., 0., 0., 0., 1., 0., 0., 0.])"
      ]
     },
     "execution_count": 13,
     "metadata": {},
     "output_type": "execute_result"
    }
   ],
   "source": [
    "for i in range(0,y_pred.shape[0]):\n",
    "    if 0.5<y_pred[i] and y_pred[i]<1.5:\n",
    "        y_pred[i] = 1\n",
    "    elif -0.5<y_pred[i] and y_pred[i]<=0.5:\n",
    "        y_pred[i] = 0\n",
    "\n",
    "y_pred"
   ]
  },
  {
   "cell_type": "code",
   "execution_count": 14,
   "id": "059b692a",
   "metadata": {},
   "outputs": [
    {
     "data": {
      "text/plain": [
       "array([0, 0, 1, 0, 1, 1, 1, 0, 0, 1, 1, 1, 1, 0, 1, 1, 1, 0, 0, 0, 1, 0,\n",
       "       0, 1, 1, 0, 0, 1, 0, 1, 1, 0, 0, 1, 1, 0, 1, 1, 1, 1, 1, 1, 1, 1,\n",
       "       1, 0, 0, 1, 0, 0, 0, 0, 1, 1, 0, 0, 0, 1, 0, 0, 0], dtype=int64)"
      ]
     },
     "execution_count": 14,
     "metadata": {},
     "output_type": "execute_result"
    }
   ],
   "source": [
    "y_test.to_numpy()"
   ]
  },
  {
   "cell_type": "code",
   "execution_count": 15,
   "id": "1acc21c4",
   "metadata": {},
   "outputs": [
    {
     "name": "stdout",
     "output_type": "stream",
     "text": [
      "R2 Score = 0.47413793103448276\n",
      "Mean Squared Error = 0.13114754098360656\n"
     ]
    }
   ],
   "source": [
    "score = r2_score(y_test, y_pred)\n",
    "MSE = mean_squared_error(y_test,y_pred)\n",
    "print('R2 Score = {}'.format(score))\n",
    "print('Mean Squared Error = {}'.format(MSE))"
   ]
  }
 ],
 "metadata": {
  "kernelspec": {
   "display_name": "Python 3 (ipykernel)",
   "language": "python",
   "name": "python3"
  },
  "language_info": {
   "codemirror_mode": {
    "name": "ipython",
    "version": 3
   },
   "file_extension": ".py",
   "mimetype": "text/x-python",
   "name": "python",
   "nbconvert_exporter": "python",
   "pygments_lexer": "ipython3",
   "version": "3.9.7"
  }
 },
 "nbformat": 4,
 "nbformat_minor": 5
}
